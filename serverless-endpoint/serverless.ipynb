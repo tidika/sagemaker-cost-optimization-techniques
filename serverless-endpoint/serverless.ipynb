{
 "cells": [
  {
   "cell_type": "markdown",
   "id": "bd0b6efa-6e68-479b-9c0d-ec27eb9738c0",
   "metadata": {},
   "source": [
    "### Import necessary library"
   ]
  },
  {
   "cell_type": "code",
   "execution_count": 1,
   "id": "e89c426b-0957-435e-81d7-ae27dbf8b0b8",
   "metadata": {},
   "outputs": [
    {
     "name": "stderr",
     "output_type": "stream",
     "text": [
      "C:\\Users\\tochi\\anaconda3\\envs\\sagemaker-dev\\lib\\site-packages\\pydantic\\_internal\\_fields.py:198: UserWarning: Field name \"json\" in \"MonitoringDatasetFormat\" shadows an attribute in parent \"Base\"\n",
      "  warnings.warn(\n"
     ]
    },
    {
     "data": {
      "text/html": [
       "<pre style=\"white-space:pre;overflow-x:auto;line-height:normal;font-family:Menlo,'DejaVu Sans Mono',consolas,'Courier New',monospace\"><span style=\"color: #7fbfbf; text-decoration-color: #7fbfbf\">[08/27/25 10:35:54] </span><span style=\"color: #0069ff; text-decoration-color: #0069ff; font-weight: bold\">INFO    </span> Found credentials in shared credentials file: ~<span style=\"color: #e100e1; text-decoration-color: #e100e1\">/.aws/credentials</span>   <a href=\"file://C:\\Users\\tochi\\anaconda3\\envs\\sagemaker-dev\\lib\\site-packages\\botocore\\credentials.py\" target=\"_blank\"><span style=\"color: #7f7f7f; text-decoration-color: #7f7f7f\">credentials.py</span></a><span style=\"color: #7f7f7f; text-decoration-color: #7f7f7f\">:</span><a href=\"file://C:\\Users\\tochi\\anaconda3\\envs\\sagemaker-dev\\lib\\site-packages\\botocore\\credentials.py#1355\" target=\"_blank\"><span style=\"color: #7f7f7f; text-decoration-color: #7f7f7f\">1355</span></a>\n",
       "</pre>\n"
      ],
      "text/plain": [
       "\u001b[2;36m[08/27/25 10:35:54]\u001b[0m\u001b[2;36m \u001b[0m\u001b[1;38;2;0;105;255mINFO    \u001b[0m Found credentials in shared credentials file: ~\u001b[38;2;225;0;225m/.aws/\u001b[0m\u001b[38;2;225;0;225mcredentials\u001b[0m   \u001b]8;id=139204;file://C:\\Users\\tochi\\anaconda3\\envs\\sagemaker-dev\\lib\\site-packages\\botocore\\credentials.py\u001b\\\u001b[2mcredentials.py\u001b[0m\u001b]8;;\u001b\\\u001b[2m:\u001b[0m\u001b]8;id=709450;file://C:\\Users\\tochi\\anaconda3\\envs\\sagemaker-dev\\lib\\site-packages\\botocore\\credentials.py#1355\u001b\\\u001b[2m1355\u001b[0m\u001b]8;;\u001b\\\n"
      ]
     },
     "metadata": {},
     "output_type": "display_data"
    },
    {
     "name": "stdout",
     "output_type": "stream",
     "text": [
      "sagemaker.config INFO - Not applying SDK defaults from location: C:\\ProgramData\\sagemaker\\sagemaker\\config.yaml\n",
      "sagemaker.config INFO - Not applying SDK defaults from location: C:\\Users\\tochi\\AppData\\Local\\sagemaker\\sagemaker\\config.yaml\n"
     ]
    }
   ],
   "source": [
    "import time\n",
    "import json\n",
    "import base64\n",
    "import requests\n",
    "\n",
    "import boto3\n",
    "import sagemaker"
   ]
  },
  {
   "cell_type": "markdown",
   "id": "ac012f73-8458-4de0-9c4d-b70d524aebfd",
   "metadata": {},
   "source": [
    "### Sagemaker setup"
   ]
  },
  {
   "cell_type": "code",
   "execution_count": 2,
   "id": "6a94d00b-4c53-440a-80f9-1cd0d9f246bb",
   "metadata": {},
   "outputs": [
    {
     "data": {
      "text/html": [
       "<pre style=\"white-space:pre;overflow-x:auto;line-height:normal;font-family:Menlo,'DejaVu Sans Mono',consolas,'Courier New',monospace\"><span style=\"color: #7fbfbf; text-decoration-color: #7fbfbf\">                    </span><span style=\"color: #0069ff; text-decoration-color: #0069ff; font-weight: bold\">INFO    </span> Found credentials in shared credentials file: ~<span style=\"color: #e100e1; text-decoration-color: #e100e1\">/.aws/credentials</span>   <a href=\"file://C:\\Users\\tochi\\anaconda3\\envs\\sagemaker-dev\\lib\\site-packages\\botocore\\credentials.py\" target=\"_blank\"><span style=\"color: #7f7f7f; text-decoration-color: #7f7f7f\">credentials.py</span></a><span style=\"color: #7f7f7f; text-decoration-color: #7f7f7f\">:</span><a href=\"file://C:\\Users\\tochi\\anaconda3\\envs\\sagemaker-dev\\lib\\site-packages\\botocore\\credentials.py#1355\" target=\"_blank\"><span style=\"color: #7f7f7f; text-decoration-color: #7f7f7f\">1355</span></a>\n",
       "</pre>\n"
      ],
      "text/plain": [
       "\u001b[2;36m                   \u001b[0m\u001b[2;36m \u001b[0m\u001b[1;38;2;0;105;255mINFO    \u001b[0m Found credentials in shared credentials file: ~\u001b[38;2;225;0;225m/.aws/\u001b[0m\u001b[38;2;225;0;225mcredentials\u001b[0m   \u001b]8;id=139385;file://C:\\Users\\tochi\\anaconda3\\envs\\sagemaker-dev\\lib\\site-packages\\botocore\\credentials.py\u001b\\\u001b[2mcredentials.py\u001b[0m\u001b]8;;\u001b\\\u001b[2m:\u001b[0m\u001b]8;id=126408;file://C:\\Users\\tochi\\anaconda3\\envs\\sagemaker-dev\\lib\\site-packages\\botocore\\credentials.py#1355\u001b\\\u001b[2m1355\u001b[0m\u001b]8;;\u001b\\\n"
      ]
     },
     "metadata": {},
     "output_type": "display_data"
    }
   ],
   "source": [
    "sm_client = boto3.client(service_name=\"sagemaker\")\n",
    "runtime = boto3.client(service_name=\"sagemaker-runtime\")\n",
    "account = boto3.client(\"sts\").get_caller_identity().get(\"Account\")\n",
    "\n",
    "sess = sagemaker.Session()\n",
    "boto_session = boto3.session.Session()\n",
    "region = boto_session.region_name\n",
    "\n",
    "role = f\"arn:aws:iam::{account}:role/service-role/AmazonSageMakerServiceCatalogProductsUseRole\""
   ]
  },
  {
   "cell_type": "markdown",
   "id": "56d75991-f1c5-41c3-a125-19939b260c24",
   "metadata": {},
   "source": [
    "### Download CLIP-ViT-B-32 model"
   ]
  },
  {
   "cell_type": "code",
   "execution_count": 4,
   "id": "0c4d9052-344b-464f-99ea-030ab4b0c803",
   "metadata": {},
   "outputs": [],
   "source": [
    "from huggingface_hub import snapshot_download\n",
    "\n",
    "snapshot_download(repo_id=\"sentence-transformers/clip-ViT-B-32\", local_dir=\"./CLIP-ViT-B-32\")"
   ]
  },
  {
   "cell_type": "markdown",
   "id": "7f3224c7-d695-42b0-9301-55d860ff315f",
   "metadata": {},
   "source": [
    "### Package and Upload CLIP-ViT-B-32 model to s3 bucket"
   ]
  },
  {
   "cell_type": "code",
   "execution_count": 40,
   "id": "884b94e6-b0e2-4985-b2ae-b58267acdfdc",
   "metadata": {},
   "outputs": [],
   "source": [
    "%cd  CLIP-ViT-B-32\n",
    "!tar zcvf model.tar.gz *"
   ]
  },
  {
   "cell_type": "code",
   "execution_count": 41,
   "id": "c84a4ddc-ebc7-4b17-8a0f-b5a0cf11bb52",
   "metadata": {},
   "outputs": [],
   "source": [
    "bucket = \"aws-portfolio-projects\"\n",
    "model_artifact = sagemaker.Session().upload_data(\"model.tar.gz\", bucket=bucket, key_prefix=\"CLIP-ViT-B-32\")\n",
    "print(\"S3 Model Path:\", model_artifact)"
   ]
  },
  {
   "cell_type": "markdown",
   "id": "b7a41a31-d256-44f1-ad05-2e5a900c0db2",
   "metadata": {},
   "source": [
    "### Create the Model"
   ]
  },
  {
   "cell_type": "code",
   "execution_count": 5,
   "id": "4135df8f-9001-46a1-97ed-8370c7152c27",
   "metadata": {},
   "outputs": [
    {
     "name": "stdout",
     "output_type": "stream",
     "text": [
      "Created Model: arn:aws:sagemaker:us-east-2:930627915954:model/normalized-b32-model-2025-08-27-10-38-25\n"
     ]
    }
   ],
   "source": [
    "# Model artifact in S3 \n",
    "model_data = \"s3://aws-portfolio-projects/CLIP-ViT-B-32/model.tar.gz\"\n",
    "\n",
    "# Generate unique name for the model \n",
    "current_time = time.strftime(\"%Y-%m-%d-%H-%M-%S\", time.localtime())\n",
    "model_name = \"normalized-b32-model-\" + current_time\n",
    "\n",
    "# Hugging Face DLC container URI (for HF + PyTorch)\n",
    "container_image_uri = \"763104351884.dkr.ecr.us-east-2.amazonaws.com/huggingface-pytorch-inference:1.13.1-transformers4.26.0-cpu-py39-ubuntu20.04\"\n",
    "\n",
    "# Create the model\n",
    "create_model_response = sm_client.create_model(\n",
    "    ModelName=model_name,\n",
    "    ExecutionRoleArn=role,\n",
    "    PrimaryContainer={\n",
    "        \"Image\": container_image_uri,\n",
    "        \"Mode\": \"SingleModel\",\n",
    "        \"ModelDataUrl\": model_data,\n",
    "        \"Environment\": {\n",
    "            \"HF_TASK\": \"feature-extraction\"\n",
    "        }\n",
    "    }\n",
    ")\n",
    "\n",
    "print(\"Created Model:\", create_model_response[\"ModelArn\"])"
   ]
  },
  {
   "cell_type": "markdown",
   "id": "e829c6cf-ed94-4a9a-96e2-d540760426ea",
   "metadata": {},
   "source": [
    "### Create an Endpoint Configuration with Serverless Inference"
   ]
  },
  {
   "cell_type": "code",
   "execution_count": 6,
   "id": "27b848cc-4a20-4939-9554-438ae8953d30",
   "metadata": {},
   "outputs": [
    {
     "name": "stdout",
     "output_type": "stream",
     "text": [
      "Created Endpoint Config: arn:aws:sagemaker:us-east-2:930627915954:endpoint-config/normalized-b32-model-endpoint-config-2025-08-27-10-40-15\n"
     ]
    }
   ],
   "source": [
    "# Generate unique name for the endpoint config name\n",
    "current_time = time.strftime(\"%Y-%m-%d-%H-%M-%S\", time.localtime())\n",
    "endpoint_config_name = \"normalized-b32-model-endpoint-config-\" + current_time\n",
    "\n",
    "create_endpoint_config_response = sm_client.create_endpoint_config(\n",
    "    EndpointConfigName=endpoint_config_name,\n",
    "    ProductionVariants=[\n",
    "        {\n",
    "            \"VariantName\": \"AllTrafficVariant\",\n",
    "            \"ModelName\": model_name,\n",
    "            \"ServerlessConfig\": {\n",
    "                \"MemorySizeInMB\": 5120,        \n",
    "                \"MaxConcurrency\": 5,\n",
    "                \"ProvisionedConcurrency\": 1\n",
    "            }\n",
    "        }\n",
    "    ]\n",
    ")\n",
    "\n",
    "print(\"Created Endpoint Config:\", create_endpoint_config_response[\"EndpointConfigArn\"])"
   ]
  },
  {
   "cell_type": "markdown",
   "id": "a4934b7c-0cf1-40c3-bcca-0c1f4a450e68",
   "metadata": {},
   "source": [
    "### Create or Update the Endpoint"
   ]
  },
  {
   "cell_type": "code",
   "execution_count": 7,
   "id": "6a0576ad-19fd-4720-83d4-614b4c3c906c",
   "metadata": {},
   "outputs": [
    {
     "name": "stdout",
     "output_type": "stream",
     "text": [
      "Created Endpoint: arn:aws:sagemaker:us-east-2:930627915954:endpoint/normalized-b32-model\n"
     ]
    }
   ],
   "source": [
    "endpoint_name = \"normalized-b32-model\"\n",
    "\n",
    "# Check if endpoint exists\n",
    "try:\n",
    "    sm_client.describe_endpoint(EndpointName=endpoint_name)\n",
    "    # If it exists, update\n",
    "    response = sm_client.update_endpoint(\n",
    "        EndpointName=endpoint_name,\n",
    "        EndpointConfigName=endpoint_config_name\n",
    "    )\n",
    "    print(\"Updated Endpoint:\", response[\"EndpointArn\"])\n",
    "    \n",
    "except sm_client.exceptions.ClientError as e:\n",
    "    if \"Could not find endpoint\" in str(e):\n",
    "        # Create the endpoint\n",
    "        response = sm_client.create_endpoint(\n",
    "            EndpointName=endpoint_name,\n",
    "            EndpointConfigName=endpoint_config_name\n",
    "        )\n",
    "        print(\"Created Endpoint:\", response[\"EndpointArn\"])\n",
    "    else:\n",
    "        raise e"
   ]
  },
  {
   "cell_type": "markdown",
   "id": "35f5ae14-a322-4448-ae69-08e3c155cdae",
   "metadata": {},
   "source": [
    "### Wait for the endpoint to be in service"
   ]
  },
  {
   "cell_type": "code",
   "execution_count": 8,
   "id": "f0438669-6ec2-40f6-b686-1dfa6523d57e",
   "metadata": {},
   "outputs": [
    {
     "name": "stdout",
     "output_type": "stream",
     "text": [
      "Waiting for endpoint to be in service...\n",
      "Endpoint status: Creating\n",
      "Endpoint status: Creating\n",
      "Endpoint status: Creating\n",
      "Endpoint status: Creating\n",
      "Endpoint status: Creating\n",
      "Endpoint status: Creating\n",
      "Endpoint status: Creating\n",
      "Endpoint status: Creating\n",
      "Endpoint status: Creating\n",
      "Endpoint status: Creating\n",
      "Endpoint status: Creating\n",
      "Endpoint status: Creating\n",
      "Endpoint status: Creating\n",
      "Endpoint status: Creating\n",
      "Endpoint status: Creating\n",
      "Endpoint status: Creating\n",
      "Endpoint status: Creating\n",
      "Endpoint status: Creating\n",
      "Endpoint status: Creating\n",
      "Endpoint status: Creating\n",
      "Endpoint status: Creating\n",
      "Endpoint status: Creating\n",
      "Endpoint status: Creating\n",
      "Endpoint status: Creating\n",
      "Endpoint status: Creating\n",
      "Endpoint status: Creating\n",
      "Endpoint status: Creating\n",
      "Endpoint status: Creating\n",
      "Endpoint status: Creating\n",
      "Endpoint status: InService\n",
      "✅ Endpoint is ready!\n"
     ]
    }
   ],
   "source": [
    "print(\"Waiting for endpoint to be in service...\")\n",
    "\n",
    "while True:\n",
    "    resp = sm_client.describe_endpoint(EndpointName=endpoint_name)\n",
    "    status = resp[\"EndpointStatus\"]\n",
    "    print(\"Endpoint status:\", status)\n",
    "    if status == \"InService\":\n",
    "        print(\"✅ Endpoint is ready!\")\n",
    "        break\n",
    "    elif status == \"Failed\":\n",
    "        raise Exception(\"Endpoint creation failed\")\n",
    "    time.sleep(10)"
   ]
  },
  {
   "cell_type": "markdown",
   "id": "5153dfbb-f272-4ee5-8223-bcb7a9ab0577",
   "metadata": {},
   "source": [
    "### Test deployed model"
   ]
  },
  {
   "cell_type": "code",
   "execution_count": 9,
   "id": "6f6d212b-6eb9-40fc-8b99-fcec6b2c8b50",
   "metadata": {},
   "outputs": [
    {
     "data": {
      "text/plain": [
       "'C:\\\\Users\\\\tochi\\\\OneDrive\\\\Documents\\\\AWS_Projects\\\\sagemaker-cost-optimization'"
      ]
     },
     "execution_count": 9,
     "metadata": {},
     "output_type": "execute_result"
    }
   ],
   "source": [
    "pwd"
   ]
  },
  {
   "cell_type": "code",
   "execution_count": 8,
   "id": "39099299-9434-41a2-9ad6-f8f1164ff1e8",
   "metadata": {},
   "outputs": [],
   "source": [
    "%cd  .."
   ]
  },
  {
   "cell_type": "code",
   "execution_count": 9,
   "id": "7e9dd978-6cd8-4ba6-8103-75d9106dcd32",
   "metadata": {},
   "outputs": [],
   "source": [
    "%cd  sagemaker-cost-optimization"
   ]
  },
  {
   "cell_type": "code",
   "execution_count": 10,
   "id": "617302ea-1503-4a25-af3e-b0faadf68838",
   "metadata": {},
   "outputs": [
    {
     "name": "stdout",
     "output_type": "stream",
     "text": [
      "Raw response from SageMaker endpoint:\n",
      "{\"object\": \"list\", \"data\": [{\"object\": \"embedding\", \"index\": 0, \"embedding\": [0.0066422351736321, 0.004895574351542614, -0.018706036851959033, 0.004662472853023341, 0.04510598618566244, -0.013993906502128825, -9.325842974767581e-05, -0.00012819223574102892, 0.009970531988663314, 0.011693910556755336, 0.022426834809983958, 0.012249128650215647, -0.035945628896813527, 0.00021407623818882568, -0.029337305160487985, 0.04781863083922653, 0.009619789789457416, 0.013744609590783474, 0.025819747195330277, 0.00017121583952888717, 0.0868025640456482, 0.03205825530144295, -0.002890173008613393, -0.009452101193794495, 0.0038173492489438424, 0.022394205287845154, -0.0223957611288003, 0.03160075753651388, -0.0007961750070793659, 0.023058468851576756, -0.003921940729050102, 0.045612086006306805, -0.02794219896841739, 0.03558561707772098, 0.10422789646745112, -0.02490249123850219, -0.009725057096965634, -0.005157083607834415, -0.00835640020113253, -0.2080916398755594, -0.026392351308188622, -0.03848864087248608, 0.024818999233678134, -0.005943139896982759, 0.019054200122557673, -0.0988399013294659, -0.040328067633078196, -0.006134937556762561, 0.004631223744301303, 0.00819056797392903, -0.035110576558953846, -0.01179429177594046, 0.020214384395915632, 0.039860530236403444, -0.024819350088754893, 0.004307546994613194, 0.05412552692669481, -0.008183386948300564, 0.04201095551220906, 0.022830772534342507, -0.09045275673326685, -0.014821546307526598, -0.022603133734333956, 0.027442264994367912, -0.02977107706981639, -0.01997383729252968, -0.055625196559224134, -0.01410093455570874, -0.01581702425337411, -0.034021789855786175, 0.04848098195520365, 0.011284494316648998, 0.007902853869608957, -0.007874139832609584, 0.005582057179044239, -0.03676016484026652, -0.028755690974223955, 0.018043871229034787, -0.03605944685888716, 0.03146374000145473, -0.005246608091186272, 0.0040851063138771515, 0.008053861031888649, -0.02505914515441484, 0.037551506962456564, 0.05067868063881093, 0.0707231232017469, -0.02497230277119384, -0.08055632562440165, -0.037202633354120544, 0.013786748148260895, 0.0009734157760001792, -0.4760319776968347, -0.062243002010206085, -0.01914390111189589, -0.02384422173735954, -0.055624788186921674, 0.0033086323945301917, -0.0231587458207903, -0.07994816148675515, -0.019970852148515923, -0.024755088968343157, -0.022814988369680173, 0.01196997886080209, 0.02122922407786393, -0.028103178179702572, -0.3105151634556204, -0.012576380095480923, 0.002464877700422319, -0.0491211544289514, 0.012661839189423872, -0.011832299877647402, 0.0014717133849785325, -0.03002940130973513, 0.03530281350654492, -0.03088282752534422, 0.012886277155822296, -0.002566422205497196, -0.0016409772336602741, -0.04011039656828321, -0.05092930619806992, 0.04214598870298161, 0.004517733630414153, 0.04002309979897919, -0.04570474338104593, 0.013284463157610988, -0.020787787998211193, -0.04009951430918104, -0.008220408629586775, -0.0007299144441092818, -0.0036525681490399836, 0.029818465512069448, 0.013081240419911483, 0.07114990101643036, -0.0034380634075197036, -0.04261160790017932, -0.019435248866949473, -0.00460426542061638, 0.007004825921331905, 0.018766736218169388, -0.005294130620471741, -0.0026823560825112156, 0.037908525009951496, -0.0127392113614336, -0.0020947263134044355, 0.04191159162895348, 0.04197652570090589, 0.10210430297743389, 0.018490919551985063, -0.0069149897665132945, 0.008631402998573219, -0.03572174884750438, 0.0091769423808791, 0.02632957413219991, -0.029502903004996764, -0.015560511806064872, 0.012269580337743419, 0.016803371339641972, 0.03290461552587497, 0.031456081582852964, -0.008089958842737076, -0.03353384534743357, 0.00864107164421315, 0.019601086845875543, 0.03354678384735446, -0.06714027168197617, 0.0655562300310696, 0.021287323665472705, 0.02803911261785821, -0.008000237722369864, 0.025435261796702986, 0.012833231894421782, 0.022316140033265756, -0.06473834083335837, 0.02254393844357562, 0.004137052996266823, 0.02636646568076298, -0.02128982278892931, 0.06453060011758024, -0.01919841881427429, 0.006133749107086564, -0.02895138183121823, -0.03419591175314348, 0.004729677417460203, 0.015766294060307964, 0.009542325589886571, -0.00025706245577997985, 0.03127362256363064, -0.04781645093637255, -0.00798854878417727, -0.011964256615810404, 0.0020291034726742847, -0.010832625331219857, -0.004272712765316831, -7.562185093518844e-05, 0.030655214608087233, 0.007857203885502637, -0.01602179708030619, 0.0010959849839638509, -0.03176183452708275, 0.01850213109720436, 0.01758617359174642, -0.047188845976439936, -0.010298222002774544, 0.01841118629786041, 0.024906793526984442, -0.037358260587554475, -0.02101582798086899, -0.09143705476836919, 0.03971763444087789, -0.05497512537093366, -0.08056568942874537, 0.049175467945178575, -0.016792533656389715, -0.027281872458784856, 0.017598905029654797, 0.008731956769435438, -0.027260271864673755, 0.08926995524883355, 0.011369602555515184, 0.037472852156313755, -0.0035596605743690693, -0.004178761612482148, 0.005552265053545678, -0.034628556324848195, 0.05475282129360865, 0.029358891375292663, 0.018490000714304528, -0.041679029354425134, -0.03129349764097079, -0.006271412273004186, -0.00871483317237965, -0.006888421122032478, 0.06162543380615788, 0.028076211228433793, -0.02925483696228136, 0.015554239552602442, -0.023904772996713716, 0.0314652527044906, -0.039614928806809224, 0.004907862906813116, -0.00466444425593416, -0.0038133949396770652, -0.010315750377306185, 0.021665516679608574, 0.08258858176000954, 0.02973336302492583, -0.009984316710767301, -0.008675944338154199, -0.004942906714500618, -0.013441260866587883, 0.0020462536714469584, 0.005908117658254894, 0.023411823051794692, -0.028618155784133514, -0.015157054350540905, -0.02718528090580795, 0.03131820416526961, -0.14222968853473414, -0.005203283600411478, -0.002924465497540207, -0.018922271424042198, 0.012026455743680846, -0.025502694992112, 0.03026880238239904, -0.04012415468867031, -0.06612569657926608, 0.024889943855716044, -0.018677712494163768, -0.017218520609219818, 0.016370664936919636, 0.02700322450716552, 0.016126078686359, -0.0036365794387437605, 0.004958120739663213, -0.008749163766468488, -0.01161970183215903, 0.039203154360449244, -0.031242649537591958, -0.015919440863383642, -0.03678908450134777, -0.004705546784383686, -0.02063515309844423, -0.0021121461241725716, 0.014062078793888065, 0.00020724858401574377, -0.0287658341369759, -0.03921829289425311, -0.0009642396216052922, -0.038114916946786995, -0.02524724948933947, 0.008519846901400183, 0.0033242296282090036, -0.0006271922738382261, -0.024467131853744505, 0.005667856703066791, 0.00030645537334863447, 0.006474583245200561, -0.037993500959198574, -0.03829409173242192, -0.03600350272931144, 0.0046634146975941555, -0.03190931732135776, -0.03646098899079536, 0.025845195691840614, -0.024432661780383346, -0.032331001985705606, -0.00364853978634512, -0.03240673204092164, -0.0017262069776657497, 0.02216022808956462, 0.034951253843768786, 0.07089843570567617, 0.046394464068871724, -0.013319284086048908, -0.008216539877193224, -0.014931024594921273, 0.028034726929398693, -0.024570800901343625, 0.06281640273664035, -0.009420683128221967, 0.1180162594118235, -0.0023331388087516514, -0.05365385691735361, -0.04125244134658648, 0.047361573081074054, -0.0007507363987774886, 0.0280980016293897, -0.02358858930360349, -0.03385470519099309, -0.0005232730263073187, -0.015034280956426003, -0.009569885687545366, 0.015917499657016315, -0.006228817891513103, 0.029899340483124218, 0.015535033113011043, -0.0007151648705442025, 0.031352139328431776, 0.0051594752459754945, 0.04619284031004664, -0.0070089434357266025, -0.06530814098146391, -0.003401914550133468, 0.03207527752438844, -0.017237587569538897, 0.017306926023049174, 0.01045205613669732, 0.06214507318173169, -0.004362108553876186, -0.01061671573146189, 0.011875329952123152, 0.04027285109640756, 0.024733120263987583, -0.025983297426604185, -0.013393498562367784, 0.026122385581788487, 0.05692971024495818, 0.004709222854071146, 0.012561199861688426, 0.07739425862439657, -0.02241096724534436, 0.032689035212234124, 0.08278481327892538, -0.06634552166416348, -0.031172559046355672, -0.027399020668226436, -0.04553320400712249, -0.00183466145844299, -0.04352499294771789, -0.012426572167357047, 0.02298490144404699, -0.02982002422888588, -0.033015643902502216, -0.017611151884936668, 0.031594419138241896, -0.053196796283339856, -0.015571704658185815, -0.05384598170635457, 0.003440748024029185, -0.06334546918550617, -0.010393256995830984, -0.029171664178059935, -0.013334396737101208, 0.002608088402758568, -0.04721694889291626, 0.02696861926832397, 0.03461511167334115, -0.030344334003186414, 0.08092321075196517, 0.0240178274176162, 0.007510481421407749, -0.0334686351927978, 0.02747212506208933, 0.002313092617665054, 0.037723581246579, 0.030080554254410162, 0.008899162939367813, -0.07038259246699846, -0.011243265969268256, -0.015799093258262578, -0.019017436549821784, 0.03813177812150053, -0.04203451169199391, -0.002570653316412648, -0.014167364075529314, -0.06237349709187102, -0.0010836302838837962, 0.06081885249501899, -0.018569429127132983, 0.02450341371971517, -0.03322070719142407, 0.002306195583338473, 0.00807273171467503, -0.024826482224741517, -0.006283476511094463, 0.035001083892252746, -0.012614403295459611, 0.011990815194776723, -0.009248456423451427, -0.005785973358796072, 0.010945955115840374, -0.01775702419689212, -0.014869102987664825, -0.007803020501998613, -0.009899480240792539, -0.027533530452245134, -0.04471489205780238, -0.30796818566723594, -0.016971675369619868, -0.028592917225496978, 0.01100314377438715, -0.04465693482532721, 0.03377160717916507, -0.004031045154477737, -0.018831142569576013, 0.0386963442020675, -0.035542421641221345, -0.013264086242476623, -0.01690974082098764, 0.011323455047406571, -0.020525020552607232, 0.01647154152321109, 0.03187496515830929, 0.006055944836918776, -0.004184792293596644, 0.027232097051665304, 0.007041349359650503, 0.00919206653537654, -0.016978478219489366, -0.08687453535016484, -0.005488233283071414, 0.033590301380318, 0.033332060540376525, 0.061903483578629945, 0.05068396647185263, -0.003100302127188654, -0.029638879478270774, 0.037730612727420655, 0.003191335359267116, -0.00327054880146452, -0.009888075293901831, -0.018342726419972675, 0.028516522846324124, 0.0266510695411034, -0.017096365525281175, 0.05196782572183832, 0.002156783086141275, -0.0025152354694520673, -0.019963216736804436, -0.019049743975496674, 0.03900329350459182, -0.025537320361982543, -0.03370909458241456, 0.006741897427495991, -0.05082568316425136, -0.032274223856357254, 0.018628742328204, 0.032413487439079944, 0.03876088428102387, 0.008490349192200666, -0.04104147966616924, -0.017885723303184616, 0.0031843146629052833, 0.01471470949872213, 0.049439201680174266, -0.02702348207405656, -0.015228019103607812, 0.02797296493244356, -0.0377473013504571, 0.03458863074262952, 0.012857705473956527, 0.010553962281328776, 0.03921874440447484, -0.022987176250323368, 0.0107246273934216, 0.03652279987739234, 0.0029815175526759488, 0.0011356488628055908, -0.01984692840988705, 0.03985641200304342, 0.00817577741934064, -0.001824981309357919, 0.016449446280958978, -0.09105433514857085, 0.041218235852463536, 0.011388699712377754, 0.010693292008861014, -0.011809149194303724, 0.03681438920479385, 0.021329880660767086, -0.06922267133494807]}], \"model\": \"sentence-transformers/clip-ViT-B-32\", \"usage\": {\"prompt_tokens\": 0, \"total_tokens\": 0}}\n"
     ]
    }
   ],
   "source": [
    "with open(\"aws_login.png\", \"rb\") as image_file:\n",
    "    encoded_image = base64.b64encode(image_file.read()).decode('utf-8')\n",
    "\n",
    "\n",
    "input_data = {\n",
    "    \"inputs\": {\n",
    "        \"image\": encoded_image \n",
    "    }\n",
    "}\n",
    "\n",
    "# Convert to JSON string\n",
    "payload = json.dumps(input_data)\n",
    "\n",
    "# Invoke the endpoint\n",
    "response = runtime.invoke_endpoint(\n",
    "    EndpointName=\"normalized-b32-model\",\n",
    "    ContentType=\"application/json\",\n",
    "    Body=payload\n",
    ")\n",
    "\n",
    "# Read the raw response body (bytes -> string)\n",
    "response = response[\"Body\"].read().decode()\n",
    "\n",
    "# Print response\n",
    "print(\"Raw response from SageMaker endpoint:\")\n",
    "print(response)"
   ]
  },
  {
   "cell_type": "code",
   "execution_count": null,
   "id": "efdf6e41-524d-465d-9c66-4bd93e32b56a",
   "metadata": {},
   "outputs": [],
   "source": []
  }
 ],
 "metadata": {
  "kernelspec": {
   "display_name": "sagemaker-dev",
   "language": "python",
   "name": "sagemaker-dev"
  },
  "language_info": {
   "codemirror_mode": {
    "name": "ipython",
    "version": 3
   },
   "file_extension": ".py",
   "mimetype": "text/x-python",
   "name": "python",
   "nbconvert_exporter": "python",
   "pygments_lexer": "ipython3",
   "version": "3.10.14"
  }
 },
 "nbformat": 4,
 "nbformat_minor": 5
}
